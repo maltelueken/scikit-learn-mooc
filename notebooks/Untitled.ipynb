{
 "cells": [
  {
   "cell_type": "code",
   "execution_count": 10,
   "id": "d57b98e5-dcdd-417c-9962-6a2286e4a8de",
   "metadata": {},
   "outputs": [],
   "source": [
    "import pandas as pd\n",
    "\n",
    "penguins = pd.read_csv(\"../datasets/penguins_classification.csv\")"
   ]
  },
  {
   "cell_type": "code",
   "execution_count": 11,
   "id": "b0d75cc9-4a83-4be5-846d-78e71dc70729",
   "metadata": {},
   "outputs": [
    {
     "data": {
      "text/html": [
       "<div>\n",
       "<style scoped>\n",
       "    .dataframe tbody tr th:only-of-type {\n",
       "        vertical-align: middle;\n",
       "    }\n",
       "\n",
       "    .dataframe tbody tr th {\n",
       "        vertical-align: top;\n",
       "    }\n",
       "\n",
       "    .dataframe thead th {\n",
       "        text-align: right;\n",
       "    }\n",
       "</style>\n",
       "<table border=\"1\" class=\"dataframe\">\n",
       "  <thead>\n",
       "    <tr style=\"text-align: right;\">\n",
       "      <th></th>\n",
       "      <th>Culmen Length (mm)</th>\n",
       "      <th>Culmen Depth (mm)</th>\n",
       "      <th>Species</th>\n",
       "    </tr>\n",
       "  </thead>\n",
       "  <tbody>\n",
       "    <tr>\n",
       "      <th>0</th>\n",
       "      <td>39.1</td>\n",
       "      <td>18.7</td>\n",
       "      <td>Adelie</td>\n",
       "    </tr>\n",
       "    <tr>\n",
       "      <th>1</th>\n",
       "      <td>39.5</td>\n",
       "      <td>17.4</td>\n",
       "      <td>Adelie</td>\n",
       "    </tr>\n",
       "    <tr>\n",
       "      <th>2</th>\n",
       "      <td>40.3</td>\n",
       "      <td>18.0</td>\n",
       "      <td>Adelie</td>\n",
       "    </tr>\n",
       "    <tr>\n",
       "      <th>3</th>\n",
       "      <td>36.7</td>\n",
       "      <td>19.3</td>\n",
       "      <td>Adelie</td>\n",
       "    </tr>\n",
       "    <tr>\n",
       "      <th>4</th>\n",
       "      <td>39.3</td>\n",
       "      <td>20.6</td>\n",
       "      <td>Adelie</td>\n",
       "    </tr>\n",
       "    <tr>\n",
       "      <th>...</th>\n",
       "      <td>...</td>\n",
       "      <td>...</td>\n",
       "      <td>...</td>\n",
       "    </tr>\n",
       "    <tr>\n",
       "      <th>337</th>\n",
       "      <td>55.8</td>\n",
       "      <td>19.8</td>\n",
       "      <td>Chinstrap</td>\n",
       "    </tr>\n",
       "    <tr>\n",
       "      <th>338</th>\n",
       "      <td>43.5</td>\n",
       "      <td>18.1</td>\n",
       "      <td>Chinstrap</td>\n",
       "    </tr>\n",
       "    <tr>\n",
       "      <th>339</th>\n",
       "      <td>49.6</td>\n",
       "      <td>18.2</td>\n",
       "      <td>Chinstrap</td>\n",
       "    </tr>\n",
       "    <tr>\n",
       "      <th>340</th>\n",
       "      <td>50.8</td>\n",
       "      <td>19.0</td>\n",
       "      <td>Chinstrap</td>\n",
       "    </tr>\n",
       "    <tr>\n",
       "      <th>341</th>\n",
       "      <td>50.2</td>\n",
       "      <td>18.7</td>\n",
       "      <td>Chinstrap</td>\n",
       "    </tr>\n",
       "  </tbody>\n",
       "</table>\n",
       "<p>342 rows × 3 columns</p>\n",
       "</div>"
      ],
      "text/plain": [
       "     Culmen Length (mm)  Culmen Depth (mm)    Species\n",
       "0                  39.1               18.7     Adelie\n",
       "1                  39.5               17.4     Adelie\n",
       "2                  40.3               18.0     Adelie\n",
       "3                  36.7               19.3     Adelie\n",
       "4                  39.3               20.6     Adelie\n",
       "..                  ...                ...        ...\n",
       "337                55.8               19.8  Chinstrap\n",
       "338                43.5               18.1  Chinstrap\n",
       "339                49.6               18.2  Chinstrap\n",
       "340                50.8               19.0  Chinstrap\n",
       "341                50.2               18.7  Chinstrap\n",
       "\n",
       "[342 rows x 3 columns]"
      ]
     },
     "execution_count": 11,
     "metadata": {},
     "output_type": "execute_result"
    }
   ],
   "source": [
    "penguins"
   ]
  },
  {
   "cell_type": "code",
   "execution_count": 23,
   "id": "42d84850-dd40-426d-87f3-daccf084624a",
   "metadata": {},
   "outputs": [],
   "source": [
    "target_name = \"Species\"\n",
    "target = penguins[target_name]\n",
    "data = penguins.drop(columns=target_name)"
   ]
  },
  {
   "cell_type": "code",
   "execution_count": 24,
   "id": "55545990-38e7-4272-94ab-f2fb7b0f4d01",
   "metadata": {},
   "outputs": [],
   "source": [
    "from sklearn.preprocessing import StandardScaler\n",
    "from sklearn.pipeline import make_pipeline\n",
    "from sklearn.dummy import DummyClassifier\n",
    "from sklearn.linear_model import LogisticRegression\n",
    "from sklearn.ensemble import RandomForestClassifier\n",
    "from sklearn.model_selection import cross_validate"
   ]
  },
  {
   "cell_type": "code",
   "execution_count": 35,
   "id": "b898de92-3018-4ba8-ba1f-79342e503c90",
   "metadata": {},
   "outputs": [],
   "source": [
    "model_dummy = make_pipeline(StandardScaler(), DummyClassifier())"
   ]
  },
  {
   "cell_type": "code",
   "execution_count": 36,
   "id": "d5d44b3f-57aa-4b2f-a4ff-b6d1d2f90bcd",
   "metadata": {},
   "outputs": [],
   "source": [
    "model_lr = make_pipeline(StandardScaler(), LogisticRegression())"
   ]
  },
  {
   "cell_type": "code",
   "execution_count": 37,
   "id": "ef2b87c3-0564-4480-af54-69a39f4ddbc5",
   "metadata": {},
   "outputs": [],
   "source": [
    "model_rf = make_pipeline(StandardScaler(), RandomForestClassifier())"
   ]
  },
  {
   "cell_type": "code",
   "execution_count": 38,
   "id": "d5daa5f8-d4c6-445e-b01f-bd5a12757878",
   "metadata": {},
   "outputs": [],
   "source": [
    "n_folds = 5"
   ]
  },
  {
   "cell_type": "code",
   "execution_count": 42,
   "id": "05ca419e-82c9-42bf-afcd-5ec2680633ee",
   "metadata": {},
   "outputs": [
    {
     "name": "stdout",
     "output_type": "stream",
     "text": [
      "0.4415174765558397 0.004602001560533943\n",
      "0.9589514066496164 0.025287380244108995\n",
      "0.9647911338448424 0.020036095745097227\n"
     ]
    }
   ],
   "source": [
    "results_cv = {}\n",
    "\n",
    "for model in [model_dummy, model_lr, model_rf]:\n",
    "    results_cv[model] = cross_validate(model, data, target, cv=n_folds)\n",
    "    print(results_cv[model][\"test_score\"].mean(), results_cv[model][\"test_score\"].std())"
   ]
  },
  {
   "cell_type": "code",
   "execution_count": 41,
   "id": "06ab02d3-e540-4a87-82b9-6619d2ff1a1a",
   "metadata": {},
   "outputs": [
    {
     "data": {
      "text/plain": [
       "{Pipeline(steps=[('standardscaler', StandardScaler()),\n",
       "                 ('dummyclassifier', DummyClassifier())]): {'fit_time': array([0.00271726, 0.00264263, 0.00244164, 0.00413108, 0.00199676]),\n",
       "  'score_time': array([0.00096226, 0.00159669, 0.00198603, 0.00107455, 0.00107145]),\n",
       "  'test_score': array([0.44927536, 0.43478261, 0.44117647, 0.44117647, 0.44117647])},\n",
       " Pipeline(steps=[('standardscaler', StandardScaler()),\n",
       "                 ('logisticregression', LogisticRegression())]): {'fit_time': array([0.01061106, 0.00561976, 0.00603056, 0.00720406, 0.00753617]),\n",
       "  'score_time': array([0.00226784, 0.00124788, 0.001436  , 0.00213146, 0.00150681]),\n",
       "  'test_score': array([1.        , 0.95652174, 0.92647059, 0.97058824, 0.94117647])},\n",
       " Pipeline(steps=[('standardscaler', StandardScaler()),\n",
       "                 ('randomforestclassifier', RandomForestClassifier())]): {'fit_time': array([0.08596158, 0.08870816, 0.07836723, 0.08164692, 0.07758737]),\n",
       "  'score_time': array([0.00334191, 0.00448942, 0.00345111, 0.00448966, 0.00502944]),\n",
       "  'test_score': array([0.98550725, 0.98550725, 0.95588235, 0.94117647, 0.97058824])}}"
      ]
     },
     "execution_count": 41,
     "metadata": {},
     "output_type": "execute_result"
    }
   ],
   "source": [
    "results_cv"
   ]
  }
 ],
 "metadata": {
  "kernelspec": {
   "display_name": "Python 3 (ipykernel)",
   "language": "python",
   "name": "python3"
  },
  "language_info": {
   "codemirror_mode": {
    "name": "ipython",
    "version": 3
   },
   "file_extension": ".py",
   "mimetype": "text/x-python",
   "name": "python",
   "nbconvert_exporter": "python",
   "pygments_lexer": "ipython3",
   "version": "3.12.0"
  }
 },
 "nbformat": 4,
 "nbformat_minor": 5
}
